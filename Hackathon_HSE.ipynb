{
  "nbformat": 4,
  "nbformat_minor": 0,
  "metadata": {
    "accelerator": "GPU",
    "colab": {
      "name": "Hackathon_HSE",
      "provenance": [],
      "collapsed_sections": []
    },
    "kernelspec": {
      "name": "python3",
      "display_name": "Python 3"
    },
    "language_info": {
      "codemirror_mode": {
        "name": "ipython",
        "version": 3
      },
      "file_extension": ".py",
      "mimetype": "text/x-python",
      "name": "python",
      "nbconvert_exporter": "python",
      "pygments_lexer": "ipython3",
      "version": "3.7.4"
    }
  },
  "cells": [
    {
      "cell_type": "markdown",
      "metadata": {
        "id": "ovpZyIhNIgoq"
      },
      "source": [
        "# Генерируем тексты для телеграм-бота на LSTM-нейронных сетях"
      ]
    },
    {
      "cell_type": "markdown",
      "metadata": {
        "id": "G_JgDPWZWwV8"
      },
      "source": [
        "Данный блокнот реализован командой 'Х' (читается как 'Икс' или 'Ха' -- мы сами не определились) в рамках хакатона Высшей Школы Экономики 17 января 2021 года.\r\n",
        "\r\n",
        "Описание постановки задачи и нашего решения можно посмотреть вот тут, начиная с 1:29:00: \r\n",
        "\r\n",
        "*   [https://youtu.be/u_8Yj9eKtp4?t=5364](https://youtu.be/u_8Yj9eKtp4?t=5364)\r\n",
        "\r\n",
        "\r\n",
        "В основе решения несколько работ, они являются гораздо более подробно описанными и технически грамотными, чем наше коленочное решение для задачи хакатона, поэтому советую в первую очередь ознакомиться с ними: \r\n",
        "\r\n",
        "\r\n",
        "*   [Туториал](https://www.tensorflow.org/tutorials/text/text_generation) от Гугла о текст-генерации -- ОСНОВА\r\n",
        "*   [Статья](https://www.researchgate.net/publication/335158858_LSTM_vs_GRU_vs_Bidirectional_RNN_for_script_generation) и тематический [репозиторий](https://github.com/sanidhyamangal/gru_lstm_tv_script) Мангала со сравнением распространенных архитектур нейросети и оценкой качества получившихся текстов на примере датасета со сценариями сериалов. \r\n",
        "*   [Публикация](https://ods.ai/projects/deep2ch) ODS сообщества о генерации текста и тематическое [видео](https://youtu.be/1LcdA0Y7IEk) по ней. Знающие люди порекомендовали почитать, так что я рекомендую тоже ознакомиться. Сам пока что не читал, но одобряю.\r\n",
        "*    Для Телеграм-бота мы использовали [вот этот репозиторий](https://github.com/python-telegram-bot/python-telegram-bot) и пример из файла [conversationbot.py](https://github.com/python-telegram-bot/python-telegram-bot/blob/master/examples/conversationbot.py)\r\n",
        "\r\n",
        "Ниже по тексту по-русски -- наши авторские замечания и заметки. По-английски -- оригинальные комментарии умных людей из Google. Возможно имеет смысл всё перевести на английский, но пока что мне лень. \r\n"
      ]
    },
    {
      "cell_type": "markdown",
      "metadata": {
        "id": "bpiykw_cZJlX"
      },
      "source": [
        "## Пара замечаний о модели\r\n",
        "\r\n",
        "Хотя некоторые предложения грамматически корректны, большинство из них не имеет смысла. Модель не выучивает значения слов, но:\r\n",
        "\r\n",
        "*    Модель основана на буквах. Когда началось обучение, модель не знала, как написать слово или что слово является единицей текста.\r\n",
        "\r\n",
        "*    Модель обучается на небольших пакетах текста (по 100 символов каждый) и по-прежнему способна генерировать более длинную последовательность текста с согласованной структурой.\r\n",
        "\r\n",
        "*    Выбор именно такой архитектуры модели продиктован статьей Sanidhya Mangal и личным опытом. Шагом вперед было бы оценивать качество разных генераций модели самими читателями и возвращать эти оценки обратно в модель для дообучения, но для меня это пока что overkill.\r\n",
        "\r\n",
        "*    Не забывайте выбрать GPU в настройках блокнота (\"Среда выполнения\" -> \"Изменить среду выполнения\"). Так должно обучаться быстрее. Недавно туда добавили ещё и TPU, но я их не пробовал."
      ]
    },
    {
      "cell_type": "markdown",
      "metadata": {
        "id": "srXC6pLGLwS6"
      },
      "source": [
        "## Setup"
      ]
    },
    {
      "cell_type": "markdown",
      "metadata": {
        "id": "WGyKZj3bzf9p"
      },
      "source": [
        "### Import TensorFlow and other libraries"
      ]
    },
    {
      "cell_type": "code",
      "metadata": {
        "id": "yG_n40gFzf9s"
      },
      "source": [
        "import tensorflow as tf\n",
        "import numpy as np\n",
        "import os\n",
        "import time"
      ],
      "execution_count": null,
      "outputs": []
    },
    {
      "cell_type": "code",
      "metadata": {
        "id": "u2qqjw3PTA2h"
      },
      "source": [
        "print(tensorflow.__version__)"
      ],
      "execution_count": null,
      "outputs": []
    },
    {
      "cell_type": "markdown",
      "metadata": {
        "id": "EHDoRoc5PKWz"
      },
      "source": [
        "### Загрузим исходный файл с данными для обучения\n"
      ]
    },
    {
      "cell_type": "code",
      "metadata": {
        "id": "bhLwZpAZyXdg",
        "colab": {
          "base_uri": "https://localhost:8080/"
        },
        "outputId": "45cd1bf8-ca1f-4507-e8cc-5209d8928cbf"
      },
      "source": [
        "# Для удобства я загрузил датасет с бугуртами на Гитхаб и обращаюсь к нему через raw.githubusercontent\n",
        "# Это самый удобный и массов воспроизводимый способ загружать датасеты текста в гугл-колаб. \n",
        "# У него только один минус -- загрузить объемный датасет в ГитХаб может оказаться неудобной задачей. Есть ограничения самого ГитХаба на это. \n",
        "\n",
        "# path_to_file = tf.keras.utils.get_file('BT.txt', 'https://raw.githubusercontent.com/Nejel/datasets/master/BT.txt') "
      ],
      "execution_count": null,
      "outputs": [
        {
          "output_type": "stream",
          "text": [
            "Downloading data from https://raw.githubusercontent.com/Nejel/datasets/master/BT.txt\n",
            "5332992/5328159 [==============================] - 0s 0us/step\n"
          ],
          "name": "stdout"
        }
      ]
    },
    {
      "cell_type": "code",
      "metadata": {
        "colab": {
          "base_uri": "https://localhost:8080/"
        },
        "id": "dCgLRxMZD7ou",
        "outputId": "0188f54d-0666-4bd5-b0b8-a80875f29a4a"
      },
      "source": [
        "# Альтернативный способ -- загрузить датасет со своего гугл-диска. \r\n",
        "# Для этого надо создать там папку (в моём случае Colab Notebooks и сложить туда файлы с текстом для обучения).\r\n",
        "# Пример ниже: \r\n",
        "\r\n",
        "from google.colab import drive\r\n",
        "drive.mount('/content/drive')\r\n",
        "\r\n",
        "text = open('/content/drive/My Drive/Colab Notebooks/res.txt', 'rb').read().decode(encoding='utf-8')\r\n"
      ],
      "execution_count": null,
      "outputs": [
        {
          "output_type": "stream",
          "text": [
            "Mounted at /content/drive\n"
          ],
          "name": "stdout"
        }
      ]
    },
    {
      "cell_type": "code",
      "metadata": {
        "colab": {
          "base_uri": "https://localhost:8080/"
        },
        "id": "gkYCKQ0lEC3A",
        "outputId": "f0959f25-f1ba-4deb-f9b6-d648ba04621c"
      },
      "source": [
        "#HealthCheck\r\n",
        "\r\n",
        "# length of text is the number of characters in it\r\n",
        "print ('Length of text: {} characters'.format(len(text)))\r\n",
        "\r\n",
        "print(text[:300])"
      ],
      "execution_count": null,
      "outputs": [
        {
          "output_type": "stream",
          "text": [
            "\"\",\"2\"\r\n",
            "небо, аллах,\r\n",
            "\r\n",
            "\"3227\",\"Я раздвоился. И вот жду, сознающий, на опушке, а — другой — совершаю в далеких полях заветное дело. И — ужасный сон! — непостижно начинаю я, ожидающий, тосковать о том, совершающем дело, и о совершенном деле…  \r\n",
            "небо, аллах,\r\n",
            "\r\n",
            "\r\n",
            "небо, аллах,\r\n",
            "\r\n",
            "***\r\n",
            "небо, аллах,\r\n",
            "\r\n",
            "\r\n"
          ],
          "name": "stdout"
        }
      ]
    },
    {
      "cell_type": "code",
      "metadata": {
        "id": "MbyA5tKcTgNQ"
      },
      "source": [
        "# Заметно, что в датасете очень часто встречается фраза \"небо, аллах\". \r\n",
        "# Это возникло из-за ошибки в функции генерации датасета.\r\n",
        "# К сожалению я слишком поздно заметил это в день хакатона и переобучить новую модель на более правильных данных банально не успел.)\r\n",
        "# Дети, не повторяйте моих ошибок!"
      ],
      "execution_count": null,
      "outputs": []
    },
    {
      "cell_type": "markdown",
      "metadata": {
        "id": "rNnrKn_lL-IJ"
      },
      "source": [
        "## Process the text"
      ]
    },
    {
      "cell_type": "code",
      "metadata": {
        "id": "IlCgQBRVymwR",
        "colab": {
          "base_uri": "https://localhost:8080/"
        },
        "outputId": "ec67bae7-314d-4ae2-dad8-ffb952b29df6"
      },
      "source": [
        "# The unique characters in the file\n",
        "vocab = sorted(set(text))\n",
        "print ('{} unique characters'.format(len(vocab)))"
      ],
      "execution_count": null,
      "outputs": [
        {
          "output_type": "stream",
          "text": [
            "289 unique characters\n"
          ],
          "name": "stdout"
        }
      ]
    },
    {
      "cell_type": "markdown",
      "metadata": {
        "id": "LFjSVAlWzf-N"
      },
      "source": [
        "### Vectorize the text\n",
        "\n",
        "Before training, we need to map strings to a numerical representation. Create two lookup tables: one mapping characters to numbers, and another for numbers to characters."
      ]
    },
    {
      "cell_type": "code",
      "metadata": {
        "id": "IalZLbvOzf-F"
      },
      "source": [
        "# Creating a mapping from unique characters to indices\n",
        "char2idx = {u:i for i, u in enumerate(vocab)}\n",
        "idx2char = np.array(vocab)\n",
        "\n",
        "text_as_int = np.array([char2idx[c] for c in text])"
      ],
      "execution_count": null,
      "outputs": []
    },
    {
      "cell_type": "markdown",
      "metadata": {
        "id": "tZfqhkYCymwX"
      },
      "source": [
        "Now we have an integer representation for each character. Notice that we mapped the character as indexes from 0 to `len(unique)`."
      ]
    },
    {
      "cell_type": "code",
      "metadata": {
        "id": "FYyNlCNXymwY",
        "colab": {
          "base_uri": "https://localhost:8080/"
        },
        "outputId": "3fa363ba-abd1-432a-c97e-c78fb2eb714e"
      },
      "source": [
        "print('{')\n",
        "for char,_ in zip(char2idx, range(20)):\n",
        "    print('  {:4s}: {:3d},'.format(repr(char), char2idx[char]))\n",
        "print('  ...\\n}')"
      ],
      "execution_count": null,
      "outputs": [
        {
          "output_type": "stream",
          "text": [
            "{\n",
            "  '\\n':   0,\n",
            "  '\\r':   1,\n",
            "  ' ' :   2,\n",
            "  '!' :   3,\n",
            "  '\"' :   4,\n",
            "  '#' :   5,\n",
            "  '$' :   6,\n",
            "  '%' :   7,\n",
            "  '&' :   8,\n",
            "  \"'\" :   9,\n",
            "  '(' :  10,\n",
            "  ')' :  11,\n",
            "  '*' :  12,\n",
            "  '+' :  13,\n",
            "  ',' :  14,\n",
            "  '-' :  15,\n",
            "  '.' :  16,\n",
            "  '/' :  17,\n",
            "  '0' :  18,\n",
            "  '1' :  19,\n",
            "  ...\n",
            "}\n"
          ],
          "name": "stdout"
        }
      ]
    },
    {
      "cell_type": "code",
      "metadata": {
        "id": "l1VKcQHcymwb",
        "colab": {
          "base_uri": "https://localhost:8080/"
        },
        "outputId": "0de2fa61-3369-46a7-a828-91f50cb2f886"
      },
      "source": [
        "# Show how the first 13 characters from the text are mapped to integers\n",
        "print ('{} ---- characters mapped to int ---- > {}'.format(repr(text[:13]), text_as_int[:13]))"
      ],
      "execution_count": null,
      "outputs": [
        {
          "output_type": "stream",
          "text": [
            "'\"\",\"2\"\\r\\nнебо,' ---- characters mapped to int ---- > [  4   4  14   4  20   4   1   0 230 222 218 231  14]\n"
          ],
          "name": "stdout"
        }
      ]
    },
    {
      "cell_type": "markdown",
      "metadata": {
        "id": "bbmsf23Bymwe"
      },
      "source": [
        "### Задача предсказания следующего символа"
      ]
    },
    {
      "cell_type": "markdown",
      "metadata": {
        "id": "wssHQ1oGymwe"
      },
      "source": [
        "Имея последовательность символов, какой наиболее вероятный следующий символ? Это задача, для которой мы будем оптимизировать наш алгоритм. На ввод в модель будет подаваться последовательность символов и модель будет на каждом шаге возвращать следующий за этой последовательностью символ."
      ]
    },
    {
      "cell_type": "markdown",
      "metadata": {
        "id": "hgsVvVxnymwf"
      },
      "source": [
        "### Создание тренировочных примеров и целей\n",
        "\n",
        "Next divide the text into example sequences. Each input sequence will contain `seq_length` characters from the text.\n",
        "\n",
        "For each input sequence, the corresponding targets contain the same length of text, except shifted one character to the right.\n",
        "\n",
        "So break the text into chunks of `seq_length+1`. For example, say `seq_length` is 4 and our text is \"Hello\". The input sequence would be \"Hell\", and the target sequence \"ello\".\n",
        "\n",
        "To do this first use the `tf.data.Dataset.from_tensor_slices` function to convert the text vector into a stream of character indices."
      ]
    },
    {
      "cell_type": "code",
      "metadata": {
        "id": "0UHJDA39zf-O",
        "colab": {
          "base_uri": "https://localhost:8080/"
        },
        "outputId": "7b88604f-d8ef-4e4c-edff-3cb25b098d3c"
      },
      "source": [
        "# The maximum length sentence we want for a single input in characters\n",
        "seq_length = 200\n",
        "examples_per_epoch = len(text)//(seq_length+1)\n",
        "\n",
        "# Create training examples / targets\n",
        "char_dataset = tf.data.Dataset.from_tensor_slices(text_as_int)\n",
        "\n",
        "for i in char_dataset.take(5):\n",
        "  print(idx2char[i.numpy()])"
      ],
      "execution_count": null,
      "outputs": [
        {
          "output_type": "stream",
          "text": [
            "\"\n",
            "\"\n",
            ",\n",
            "\"\n",
            "2\n"
          ],
          "name": "stdout"
        }
      ]
    },
    {
      "cell_type": "markdown",
      "metadata": {
        "id": "-ZSYAcQV8OGP"
      },
      "source": [
        "The `batch` method lets us easily convert these individual characters to sequences of the desired size."
      ]
    },
    {
      "cell_type": "code",
      "metadata": {
        "id": "l4hkDU3i7ozi",
        "colab": {
          "base_uri": "https://localhost:8080/"
        },
        "outputId": "8845f45a-1f4b-4c9e-981a-afce5b52db96"
      },
      "source": [
        "sequences = char_dataset.batch(seq_length+1, drop_remainder=True)\n",
        "\n",
        "for item in sequences.take(5):\n",
        "  print(repr(''.join(idx2char[item.numpy()])))"
      ],
      "execution_count": null,
      "outputs": [
        {
          "output_type": "stream",
          "text": [
            "'\"\",\"2\"\\r\\nнебо, аллах,\\r\\n\\r\\n\"3227\",\"Я раздвоился. И вот жду, сознающий, на опушке, а — другой — совершаю в далеких полях заветное дело. И — ужасный сон! — непостижно начинаю я, ожидающий, тосковать о том, '\n",
            "'совершающем дело, и о совершенном деле…  \\r\\nнебо, аллах,\\r\\n\\r\\n\\r\\nнебо, аллах,\\r\\n\\r\\n***\\r\\nнебо, аллах,\\r\\n\\r\\n\\r\\nнебо, аллах,\\r\\n\\r\\nХоть и не вышло, а хорошая мысль стихотворения; убийца-двойник — совершит и отпадет, '\n",
            "'а созерцателю-то, который не принимал участия в убийстве, — вся награда. Мысль-то сумасшедшая, да ведь и награда — сумасшествие, которое застынет в сладостном созерцании совершенного другим. Память о н'\n",
            "'оже будет идеальна, ибо нож был хоть и реален, но в мечтах — вот она, великая тайна…\"\\r\\nнебо, аллах,\\r\\n\\r\\n\"3228\",\"Вот в эту минуту я настолько утончен и уравновешен, что смогу завещать. Складываются в одн'\n",
            "'о местечко (страшная близость яви и сна, земли и неба!) — укромненькое — все бумаги (и эта) и иные книги. Первое место — «Северные цветы» — не за содержание, а за то, что несет на страницах кресты. А с'\n"
          ],
          "name": "stdout"
        }
      ]
    },
    {
      "cell_type": "markdown",
      "metadata": {
        "id": "UbLcIPBj_mWZ"
      },
      "source": [
        "For each sequence, duplicate and shift it to form the input and target text by using the `map` method to apply a simple function to each batch:"
      ]
    },
    {
      "cell_type": "code",
      "metadata": {
        "id": "9NGu-FkO_kYU"
      },
      "source": [
        "def split_input_target(chunk):\n",
        "    input_text = chunk[:-1]\n",
        "    target_text = chunk[1:]\n",
        "    return input_text, target_text\n",
        "\n",
        "dataset = sequences.map(split_input_target)"
      ],
      "execution_count": null,
      "outputs": []
    },
    {
      "cell_type": "markdown",
      "metadata": {
        "id": "hiCopyGZymwi"
      },
      "source": [
        "Print the first examples input and target values:"
      ]
    },
    {
      "cell_type": "code",
      "metadata": {
        "id": "GNbw-iR0ymwj",
        "colab": {
          "base_uri": "https://localhost:8080/"
        },
        "outputId": "1d53f608-fd9f-44ba-ba7d-66a2fac2cc9a"
      },
      "source": [
        "for input_example, target_example in  dataset.take(1):\n",
        "  print ('Input data: ', repr(''.join(idx2char[input_example.numpy()])))\n",
        "  print ('Target data:', repr(''.join(idx2char[target_example.numpy()])))"
      ],
      "execution_count": null,
      "outputs": [
        {
          "output_type": "stream",
          "text": [
            "Input data:  '\"\",\"2\"\\r\\nнебо, аллах,\\r\\n\\r\\n\"3227\",\"Я раздвоился. И вот жду, сознающий, на опушке, а — другой — совершаю в далеких полях заветное дело. И — ужасный сон! — непостижно начинаю я, ожидающий, тосковать о том,'\n",
            "Target data: '\",\"2\"\\r\\nнебо, аллах,\\r\\n\\r\\n\"3227\",\"Я раздвоился. И вот жду, сознающий, на опушке, а — другой — совершаю в далеких полях заветное дело. И — ужасный сон! — непостижно начинаю я, ожидающий, тосковать о том, '\n"
          ],
          "name": "stdout"
        }
      ]
    },
    {
      "cell_type": "markdown",
      "metadata": {
        "id": "_33OHL3b84i0"
      },
      "source": [
        "Each index of these vectors are processed as one time step. For the input at time step 0, the model receives the index for \"F\" and trys to predict the index for \"i\" as the next character. At the next timestep, it does the same thing but the `RNN` considers the previous step context in addition to the current input character."
      ]
    },
    {
      "cell_type": "code",
      "metadata": {
        "id": "0eBu9WZG84i0",
        "colab": {
          "base_uri": "https://localhost:8080/"
        },
        "outputId": "f24f22be-30e1-4c5a-ef81-008af8cbb91e"
      },
      "source": [
        "for i, (input_idx, target_idx) in enumerate(zip(input_example[:5], target_example[:5])):\n",
        "    print(\"Step {:4d}\".format(i))\n",
        "    print(\"  input: {} ({:s})\".format(input_idx, repr(idx2char[input_idx])))\n",
        "    print(\"  expected output: {} ({:s})\".format(target_idx, repr(idx2char[target_idx])))"
      ],
      "execution_count": null,
      "outputs": [
        {
          "output_type": "stream",
          "text": [
            "Step    0\n",
            "  input: 4 ('\"')\n",
            "  expected output: 4 ('\"')\n",
            "Step    1\n",
            "  input: 4 ('\"')\n",
            "  expected output: 14 (',')\n",
            "Step    2\n",
            "  input: 14 (',')\n",
            "  expected output: 4 ('\"')\n",
            "Step    3\n",
            "  input: 4 ('\"')\n",
            "  expected output: 20 ('2')\n",
            "Step    4\n",
            "  input: 20 ('2')\n",
            "  expected output: 4 ('\"')\n"
          ],
          "name": "stdout"
        }
      ]
    },
    {
      "cell_type": "markdown",
      "metadata": {
        "id": "MJdfPmdqzf-R"
      },
      "source": [
        "### Создание тренировочных пакетов (batch)\n",
        "\n",
        "We used `tf.data` to split the text into manageable sequences. But before feeding this data into the model, we need to shuffle the data and pack it into batches."
      ]
    },
    {
      "cell_type": "code",
      "metadata": {
        "id": "p2pGotuNzf-S",
        "colab": {
          "base_uri": "https://localhost:8080/"
        },
        "outputId": "313bf3d5-d65f-4db3-e981-572b2704c5dc"
      },
      "source": [
        "# Batch size\n",
        "BATCH_SIZE = 64\n",
        "\n",
        "# Buffer size to shuffle the dataset\n",
        "# (TF data is designed to work with possibly infinite sequences,\n",
        "# so it doesn't attempt to shuffle the entire sequence in memory. Instead,\n",
        "# it maintains a buffer in which it shuffles elements).\n",
        "BUFFER_SIZE = 10000\n",
        "\n",
        "dataset = dataset.shuffle(BUFFER_SIZE).batch(BATCH_SIZE, drop_remainder=True)\n",
        "\n",
        "dataset"
      ],
      "execution_count": null,
      "outputs": [
        {
          "output_type": "execute_result",
          "data": {
            "text/plain": [
              "<BatchDataset shapes: ((64, 200), (64, 200)), types: (tf.int64, tf.int64)>"
            ]
          },
          "metadata": {
            "tags": []
          },
          "execution_count": 18
        }
      ]
    },
    {
      "cell_type": "markdown",
      "metadata": {
        "id": "r6oUuElIMgVx"
      },
      "source": [
        "## Построение модели"
      ]
    },
    {
      "cell_type": "markdown",
      "metadata": {
        "id": "m8gPwEjRzf-Z"
      },
      "source": [
        "Use `tf.keras.Sequential` to define the model. For this simple example three layers are used to define our model:\n",
        "\n",
        "* `tf.keras.layers.Embedding`: The input layer. A trainable lookup table that will map the numbers of each character to a vector with `embedding_dim` dimensions;\n",
        "* `tf.keras.layers.GRU`: A type of RNN with size `units=rnn_units` (You can also use a LSTM layer here.)\n",
        "* `tf.keras.layers.Dense`: The output layer, with `vocab_size` outputs."
      ]
    },
    {
      "cell_type": "code",
      "metadata": {
        "id": "zHT8cLh7EAsg"
      },
      "source": [
        "# Length of the vocabulary in chars\n",
        "vocab_size = len(vocab)\n",
        "\n",
        "# The embedding dimension\n",
        "embedding_dim = 256\n",
        "\n",
        "# Number of RNN units\n",
        "rnn_units = 1024"
      ],
      "execution_count": null,
      "outputs": []
    },
    {
      "cell_type": "code",
      "metadata": {
        "id": "QiQHZdjRNc_B"
      },
      "source": [
        "# #Базовая и самая простая модель для генерации текстов. \n",
        "# #Сейчас закомментирована в пользу более эффективных моделей типо 0.03 (см. ячейку ниже)\n",
        "\n",
        "# def build_model(vocab_size, embedding_dim, rnn_units, batch_size):\n",
        "#   model = tf.keras.Sequential([\n",
        "#     tf.keras.layers.Embedding(vocab_size, embedding_dim,\n",
        "#                               batch_input_shape=[batch_size, None]),\n",
        "#     tf.keras.layers.GRU(rnn_units,\n",
        "#                         return_sequences=True,\n",
        "#                         stateful=True,\n",
        "#                         recurrent_initializer='glorot_uniform'),\n",
        "#     tf.keras.layers.Dense(vocab_size)\n",
        "#   ])\n",
        "#   return model"
      ],
      "execution_count": null,
      "outputs": []
    },
    {
      "cell_type": "code",
      "metadata": {
        "id": "Ovlo4W6Q-jpz"
      },
      "source": [
        "# Возможно лучшая модель для генерации, из тех что я пробовал и из тех что пробовал Mangal.\n",
        "\n",
        "# Она казалась мне достаточно простой чтобы быстро обучаться, но в датасете с дневниками она начала работать в РАЗЫ дольше, чем на моих предыдущих тестовых датасетах (с бугуртами). \n",
        "# Тем не менее, уверен что на 20-25 эпохах и более-менее правильных датасетах может показать классный результат.\n",
        "# Вопрос только в том, есть ли у вас столько времени и итераций для обучения. \n",
        "\n",
        "\n",
        "MODEL_VERSION = 0.03\n",
        "\n",
        "def build_model(vocab_size, embedding_dim, rnn_units, batch_size):\n",
        "  model = tf.keras.Sequential([\n",
        "    # embedding layer\n",
        "    tf.keras.layers.Embedding(vocab_size, embedding_dim,\n",
        "                              batch_input_shape=[batch_size, None]),\n",
        "    # LSTM layer\n",
        "    tf.keras.layers.LSTM(rnn_units,\n",
        "                        return_sequences=True,\n",
        "                        stateful=True,\n",
        "                        recurrent_initializer='glorot_uniform'),\n",
        "    \n",
        "    # dropout layer\n",
        "    tf.keras.layers.Dropout(0.4),\n",
        "    \n",
        "    # LSTM layer\n",
        "    tf.keras.layers.LSTM(rnn_units,\n",
        "                        return_sequences=True,\n",
        "                        stateful=True,\n",
        "                        recurrent_initializer='glorot_uniform'),\n",
        "    # dense layer\n",
        "    tf.keras.layers.Dense(vocab_size)\n",
        "  ])\n",
        "  return model"
      ],
      "execution_count": null,
      "outputs": []
    },
    {
      "cell_type": "markdown",
      "metadata": {
        "id": "Y4zfnF570QtJ"
      },
      "source": [
        "# Билд модели"
      ]
    },
    {
      "cell_type": "code",
      "metadata": {
        "id": "wwsrpOik5zhv"
      },
      "source": [
        "model = build_model(\n",
        "  vocab_size = len(vocab),\n",
        "  embedding_dim=embedding_dim,\n",
        "  rnn_units=rnn_units,\n",
        "  batch_size=BATCH_SIZE)"
      ],
      "execution_count": null,
      "outputs": []
    },
    {
      "cell_type": "markdown",
      "metadata": {
        "id": "RkA5upJIJ7W7"
      },
      "source": [
        "For each character the model looks up the embedding, runs the GRU (or LSTM) one timestep with the embedding as input, and applies the dense layer to generate logits predicting the log-likelihood of the next character:\n",
        "\n",
        "![A drawing of the data passing through the model](https://github.com/tensorflow/docs/blob/master/site/en/tutorials/text/images/text_generation_training.png?raw=1)"
      ]
    },
    {
      "cell_type": "markdown",
      "metadata": {
        "id": "-ubPo0_9Prjb"
      },
      "source": [
        "## Try the model\n",
        "\n",
        "Now run the model to see that it behaves as expected.\n",
        "\n",
        "First check the shape of the output:"
      ]
    },
    {
      "cell_type": "code",
      "metadata": {
        "id": "C-_70kKAPrPU",
        "colab": {
          "base_uri": "https://localhost:8080/"
        },
        "outputId": "88bbacb8-1c7a-4aa0-c654-8f1361ac4a81"
      },
      "source": [
        "for input_example_batch, target_example_batch in dataset.take(1):\n",
        "  example_batch_predictions = model(input_example_batch)\n",
        "  print(example_batch_predictions.shape, \"# (batch_size, sequence_length, vocab_size)\")"
      ],
      "execution_count": null,
      "outputs": [
        {
          "output_type": "stream",
          "text": [
            "(64, 200, 289) # (batch_size, sequence_length, vocab_size)\n"
          ],
          "name": "stdout"
        }
      ]
    },
    {
      "cell_type": "markdown",
      "metadata": {
        "id": "Q6NzLBi4VM4o"
      },
      "source": [
        "In the above example the sequence length of the input is `100` but the model can be run on inputs of any length:"
      ]
    },
    {
      "cell_type": "code",
      "metadata": {
        "id": "vPGmAAXmVLGC",
        "colab": {
          "base_uri": "https://localhost:8080/"
        },
        "outputId": "500341f5-473a-4342-9dc2-1615c7103336"
      },
      "source": [
        "model.summary()"
      ],
      "execution_count": null,
      "outputs": [
        {
          "output_type": "stream",
          "text": [
            "Model: \"sequential\"\n",
            "_________________________________________________________________\n",
            "Layer (type)                 Output Shape              Param #   \n",
            "=================================================================\n",
            "embedding (Embedding)        (64, None, 256)           73984     \n",
            "_________________________________________________________________\n",
            "lstm (LSTM)                  (64, None, 1024)          5246976   \n",
            "_________________________________________________________________\n",
            "dropout (Dropout)            (64, None, 1024)          0         \n",
            "_________________________________________________________________\n",
            "lstm_1 (LSTM)                (64, None, 1024)          8392704   \n",
            "_________________________________________________________________\n",
            "dense (Dense)                (64, None, 289)           296225    \n",
            "=================================================================\n",
            "Total params: 14,009,889\n",
            "Trainable params: 14,009,889\n",
            "Non-trainable params: 0\n",
            "_________________________________________________________________\n"
          ],
          "name": "stdout"
        }
      ]
    },
    {
      "cell_type": "markdown",
      "metadata": {
        "id": "uwv0gEkURfx1"
      },
      "source": [
        "To get actual predictions from the model we need to sample from the output distribution, to get actual character indices. This distribution is defined by the logits over the character vocabulary.\n",
        "\n",
        "Note: It is important to _sample_ from this distribution as taking the _argmax_ of the distribution can easily get the model stuck in a loop.\n",
        "\n",
        "Try it for the first example in the batch:"
      ]
    },
    {
      "cell_type": "code",
      "metadata": {
        "id": "4V4MfFg0RQJg"
      },
      "source": [
        "sampled_indices = tf.random.categorical(example_batch_predictions[0], num_samples=1)\n",
        "sampled_indices = tf.squeeze(sampled_indices,axis=-1).numpy()"
      ],
      "execution_count": null,
      "outputs": []
    },
    {
      "cell_type": "markdown",
      "metadata": {
        "id": "QM1Vbxs_URw5"
      },
      "source": [
        "This gives us, at each timestep, a prediction of the next character index:"
      ]
    },
    {
      "cell_type": "code",
      "metadata": {
        "id": "YqFMUQc_UFgM",
        "colab": {
          "base_uri": "https://localhost:8080/"
        },
        "outputId": "aacd515b-cb3d-49d2-bac0-ad1a6d7926c9"
      },
      "source": [
        "sampled_indices"
      ],
      "execution_count": null,
      "outputs": [
        {
          "output_type": "execute_result",
          "data": {
            "text/plain": [
              "array([ 19,  17,   7, 173, 189,  59,  23,  93, 216, 263, 219, 178, 257,\n",
              "       228, 190, 183,   0,  49,  36,  37,  25,  41, 266, 101, 211, 109,\n",
              "       157, 274,  73, 225, 259,  52, 225, 186, 122,   8,  98, 118, 136,\n",
              "       213,  30,  91, 106,  97, 161, 189, 142, 221, 166,  67, 180, 231,\n",
              "       273, 164, 123, 270, 274, 226, 153, 200,   1,  47, 202, 158,  49,\n",
              "       192,   4, 141,  76,  59, 209, 241, 172, 241, 217, 180, 131, 212,\n",
              "         4, 202,  43, 186, 162,  61,  12, 107, 116, 260, 136, 222, 166,\n",
              "       172, 238, 190, 218, 207, 123, 265, 263,  87, 159,  89, 247, 203,\n",
              "       284,   4, 104,  82, 208,  68, 243, 128, 117, 159,  34, 156, 131,\n",
              "       258, 237,   6, 242,   0, 193,  67, 213,  16, 223, 116,  82, 218,\n",
              "        19,  82, 237,  38, 115, 145, 198, 177,  36, 274, 233,  85, 208,\n",
              "       167, 193,  49, 211, 124, 197, 238, 103,  92, 166,  70, 263, 111,\n",
              "        81, 174,  92,  57, 136,  96, 220, 148,  76,  10,  83, 123, 193,\n",
              "       275, 273, 277,  44, 276, 209, 153, 187, 205, 268, 170, 209, 149,\n",
              "       198, 247, 258,  78, 257,   3, 218,  17,  15, 208,   8, 102,  91,\n",
              "       270, 281, 251,  97,  34])"
            ]
          },
          "metadata": {
            "tags": []
          },
          "execution_count": 26
        }
      ]
    },
    {
      "cell_type": "markdown",
      "metadata": {
        "id": "LfLtsP3mUhCG"
      },
      "source": [
        "Decode these to see the text predicted by this untrained model:"
      ]
    },
    {
      "cell_type": "markdown",
      "metadata": {
        "id": "nEKR0ReW0lCo"
      },
      "source": [
        "## Посмотрим, что возвращает модель ещё не будучи обученной"
      ]
    },
    {
      "cell_type": "code",
      "metadata": {
        "id": "xWcFwPwLSo05",
        "colab": {
          "base_uri": "https://localhost:8080/"
        },
        "outputId": "996ba449-9082-492d-8a8e-ef71a278de31"
      },
      "source": [
        "print(\"Input: \\n\", repr(\"\".join(idx2char[input_example_batch[0]])))\n",
        "print()\n",
        "print(\"Next Char Predictions: \\n\", repr(\"\".join(idx2char[sampled_indices ])))"
      ],
      "execution_count": null,
      "outputs": [
        {
          "output_type": "stream",
          "text": [
            "Input: \n",
            " 'о и неохотно.  \\r\\nнебо, аллах,\\r\\n\\r\\n\\r\\nнебо, аллах,\\r\\n\\r\\nПрошел слух о скором отъезде наместника.  \\r\\nнебо, аллах,\\r\\n\\r\\n\\r\\nнебо, аллах,\\r\\n\\r\\nБегство жителей из крепости продолжается.  \\r\\nнебо, аллах,\\r\\n\\r\\n\\r\\nнебо, ал'\n",
            "\n",
            "Next Char Predictions: \n",
            " '1/%σДZ5|ЯႵвψѣлЕЅ\\nPCD7H‑¬Ъ¼γ„hиѳSиБç&¥àüЬ<z¸£ηД˃дμbύо”κè‘„йΣП\\rNСδPЗ\"˂kZШшςшаύôЫ\"СJБθ\\\\*ºÜѵüеμςхЕбЦèὸႵvεxюТ♂\"±qЧcъïßεAβôѲф$щ\\nИbЬ.жÜqб1qфE×́НχC„рtЧνИPЪéМх°{μeႵ¾pτ{Xü\\xa0гΕk(rèИ†”›K…ШΣВФ—πШΚНюѲmѣ!б/-Ч&\\xadz‘⅓є£A'\n"
          ],
          "name": "stdout"
        }
      ]
    },
    {
      "cell_type": "markdown",
      "metadata": {
        "id": "LJL0Q0YPY6Ee"
      },
      "source": [
        "## Обучим получившуюся модель"
      ]
    },
    {
      "cell_type": "markdown",
      "metadata": {
        "id": "YCbHQHiaa4Ic"
      },
      "source": [
        "At this point the problem can be treated as a standard classification problem. Given the previous RNN state, and the input this time step, predict the class of the next character."
      ]
    },
    {
      "cell_type": "markdown",
      "metadata": {
        "id": "trpqTWyvk0nr"
      },
      "source": [
        "### Добавим функцию оптимизации (optimizer) и функцию потерь (loss function)"
      ]
    },
    {
      "cell_type": "markdown",
      "metadata": {
        "id": "UAjbjY03eiQ4"
      },
      "source": [
        "The standard `tf.keras.losses.sparse_categorical_crossentropy` loss function works in this case because it is applied across the last dimension of the predictions.\n",
        "\n",
        "Because our model returns logits, we need to set the `from_logits` flag.\n"
      ]
    },
    {
      "cell_type": "code",
      "metadata": {
        "id": "4HrXTACTdzY-",
        "colab": {
          "base_uri": "https://localhost:8080/"
        },
        "outputId": "57e8144a-4d03-49fb-9617-c9f7530d9c39"
      },
      "source": [
        "def loss(labels, logits):\n",
        "  return tf.keras.losses.sparse_categorical_crossentropy(labels, logits, from_logits=True)\n",
        "\n",
        "example_batch_loss  = loss(target_example_batch, example_batch_predictions)\n",
        "print(\"Prediction shape: \", example_batch_predictions.shape, \" # (batch_size, sequence_length, vocab_size)\")\n",
        "print(\"scalar_loss:      \", example_batch_loss.numpy().mean())"
      ],
      "execution_count": null,
      "outputs": [
        {
          "output_type": "stream",
          "text": [
            "Prediction shape:  (64, 200, 289)  # (batch_size, sequence_length, vocab_size)\n",
            "scalar_loss:       5.666701\n"
          ],
          "name": "stdout"
        }
      ]
    },
    {
      "cell_type": "markdown",
      "metadata": {
        "id": "jeOXriLcymww"
      },
      "source": [
        "Configure the training procedure using the `tf.keras.Model.compile` method. We'll use `tf.keras.optimizers.Adam` with default arguments and the loss function."
      ]
    },
    {
      "cell_type": "code",
      "metadata": {
        "id": "DDl1_Een6rL0"
      },
      "source": [
        "model.compile(optimizer='adam', loss=loss)"
      ],
      "execution_count": null,
      "outputs": []
    },
    {
      "cell_type": "markdown",
      "metadata": {
        "id": "ieSJdchZggUj"
      },
      "source": [
        "### Configure checkpoints"
      ]
    },
    {
      "cell_type": "markdown",
      "metadata": {
        "id": "C6XBUUavgF56"
      },
      "source": [
        "Use a `tf.keras.callbacks.ModelCheckpoint` to ensure that checkpoints are saved during training:"
      ]
    },
    {
      "cell_type": "code",
      "metadata": {
        "id": "W6fWTriUZP-n"
      },
      "source": [
        "# Directory where the checkpoints will be saved\n",
        "checkpoint_dir = './training_checkpoints'\n",
        "# Name of the checkpoint files\n",
        "checkpoint_prefix = os.path.join(checkpoint_dir, \"ckpt_{epoch}\")\n",
        "\n",
        "checkpoint_callback=tf.keras.callbacks.ModelCheckpoint(\n",
        "    filepath=checkpoint_prefix,\n",
        "    save_weights_only=True)"
      ],
      "execution_count": null,
      "outputs": []
    },
    {
      "cell_type": "markdown",
      "metadata": {
        "id": "3Ky3F_BhgkTW"
      },
      "source": [
        "### Выполнение обучения"
      ]
    },
    {
      "cell_type": "markdown",
      "metadata": {
        "id": "IxdOA-rgyGvs"
      },
      "source": [
        "\r\n",
        "To keep training time reasonable, use 10 to 30  epochs to train the model. In Colab, set the runtime to GPU for faster training."
      ]
    },
    {
      "cell_type": "code",
      "metadata": {
        "id": "Iw6uzC8-D539"
      },
      "source": [
        "EPOCHS = 3"
      ],
      "execution_count": null,
      "outputs": []
    },
    {
      "cell_type": "code",
      "metadata": {
        "id": "UK-hmKjYVoll",
        "colab": {
          "base_uri": "https://localhost:8080/"
        },
        "outputId": "a107de72-0f6e-4e52-f8d4-3b070c65890c"
      },
      "source": [
        "history = model.fit(dataset, epochs=EPOCHS, callbacks=[checkpoint_callback])"
      ],
      "execution_count": null,
      "outputs": [
        {
          "output_type": "stream",
          "text": [
            "Epoch 1/3\n",
            "2970/2970 [==============================] - 1241s 417ms/step - loss: 1.8866\n",
            "Epoch 2/3\n",
            "2970/2970 [==============================] - 1250s 420ms/step - loss: 1.2445\n",
            "Epoch 3/3\n",
            "2970/2970 [==============================] - 1264s 425ms/step - loss: 1.1930\n"
          ],
          "name": "stdout"
        }
      ]
    },
    {
      "cell_type": "markdown",
      "metadata": {
        "id": "kKkD5M6eoSiN"
      },
      "source": [
        "## Теперь, когда модель обучена, можно попробовать сгенерировать новый текст"
      ]
    },
    {
      "cell_type": "markdown",
      "metadata": {
        "id": "JIPcXllKjkdr"
      },
      "source": [
        "### Restore the latest checkpoint"
      ]
    },
    {
      "cell_type": "markdown",
      "metadata": {
        "id": "LyeYRiuVjodY"
      },
      "source": [
        "To keep this prediction step simple, use a batch size of 1.\n",
        "\n",
        "Because of the way the RNN state is passed from timestep to timestep, the model only accepts a fixed batch size once built.\n",
        "\n",
        "To run the model with a different `batch_size`, we need to rebuild the model and restore the weights from the checkpoint.\n"
      ]
    },
    {
      "cell_type": "code",
      "metadata": {
        "id": "C7009ljtf3PQ"
      },
      "source": [
        "# Directory where the checkpoints will be saved\r\n",
        "checkpoint_dir = './training_checkpoints'\r\n",
        "# Name of the checkpoint files\r\n",
        "checkpoint_prefix = os.path.join(checkpoint_dir, \"ckpt_{epoch}\")\r\n",
        "\r\n",
        "checkpoint_callback=tf.keras.callbacks.ModelCheckpoint(\r\n",
        "    filepath=checkpoint_prefix,\r\n",
        "    save_weights_only=True)"
      ],
      "execution_count": null,
      "outputs": []
    },
    {
      "cell_type": "code",
      "metadata": {
        "id": "zk2WJ2-XjkGz"
      },
      "source": [
        "tf.train.latest_checkpoint(checkpoint_dir)\n",
        "model = build_model(vocab_size, embedding_dim, rnn_units, batch_size=1)\n",
        "model.load_weights(tf.train.latest_checkpoint(checkpoint_dir))\n",
        "model.build(tf.TensorShape([1, None]))"
      ],
      "execution_count": null,
      "outputs": []
    },
    {
      "cell_type": "code",
      "metadata": {
        "colab": {
          "base_uri": "https://localhost:8080/"
        },
        "id": "_wQFLzTScDAV",
        "outputId": "2b3e0262-ef18-466b-82c6-6b820c901b99"
      },
      "source": [
        "from google.colab import drive\r\n",
        "drive.mount('/content/drive')"
      ],
      "execution_count": null,
      "outputs": [
        {
          "output_type": "stream",
          "text": [
            "Drive already mounted at /content/drive; to attempt to forcibly remount, call drive.mount(\"/content/drive\", force_remount=True).\n"
          ],
          "name": "stdout"
        }
      ]
    },
    {
      "cell_type": "code",
      "metadata": {
        "id": "C8NXUmxId57y"
      },
      "source": [
        "#ls drive/\r\n",
        "# !ls \"/content/drive/My Drive\""
      ],
      "execution_count": null,
      "outputs": []
    },
    {
      "cell_type": "code",
      "metadata": {
        "id": "9s84R44v38pJ",
        "colab": {
          "base_uri": "https://localhost:8080/"
        },
        "outputId": "7edabc46-8881-4beb-8c05-4590aa8c1c14"
      },
      "source": [
        "# Надо попробовать засейвить модель, чтобы её можно было локально открыть\r\n",
        "# https://colab.research.google.com/github/tensorflow/docs/blob/master/site/en/tutorials/keras/save_and_load.ipynb#scrollTo=sI1YvCDFzpl3\r\n",
        "\r\n",
        "model.save('/content/drive/My Drive/New_Model')\r\n",
        "\r\n",
        "# model.save('/content/drive/My Drive')\r\n",
        "# После этого модель окажется сохранена на гугл-драйве в двух папках: \r\n",
        "# assets (папка остается пустой в нашем случае)\r\n",
        "# variables (два файла, один из них на несколько десятков мегабайт)\r\n",
        "# также сам файл модели на уровень выше, не потеряйте его. \r\n",
        "\r\n",
        "# файлы из второй папки забираем и передаем товарищу, либо запускаем локально при помощи функции \r\n",
        "# tf.keras.models.load_model()"
      ],
      "execution_count": null,
      "outputs": [
        {
          "output_type": "stream",
          "text": [
            "WARNING:absl:Found untraced functions such as lstm_cell_2_layer_call_fn, lstm_cell_2_layer_call_and_return_conditional_losses, lstm_cell_3_layer_call_fn, lstm_cell_3_layer_call_and_return_conditional_losses, lstm_cell_2_layer_call_fn while saving (showing 5 of 10). These functions will not be directly callable after loading.\n",
            "WARNING:absl:Found untraced functions such as lstm_cell_2_layer_call_fn, lstm_cell_2_layer_call_and_return_conditional_losses, lstm_cell_3_layer_call_fn, lstm_cell_3_layer_call_and_return_conditional_losses, lstm_cell_2_layer_call_fn while saving (showing 5 of 10). These functions will not be directly callable after loading.\n"
          ],
          "name": "stderr"
        },
        {
          "output_type": "stream",
          "text": [
            "INFO:tensorflow:Assets written to: /content/drive/My Drive/New_Model/assets\n"
          ],
          "name": "stdout"
        },
        {
          "output_type": "stream",
          "text": [
            "INFO:tensorflow:Assets written to: /content/drive/My Drive/New_Model/assets\n"
          ],
          "name": "stderr"
        }
      ]
    },
    {
      "cell_type": "code",
      "metadata": {
        "colab": {
          "base_uri": "https://localhost:8080/"
        },
        "id": "tyNGOV1ggdS0",
        "outputId": "1640838b-b450-4e98-9a4f-356195a6022e"
      },
      "source": [
        "# Загрузим нашу модель с гугл-диска\r\n",
        "from google.colab import drive\r\n",
        "drive.mount('/content/drive')\r\n",
        "\r\n",
        "new_model = tf.keras.models.load_model('/content/drive/My Drive/New_Model')"
      ],
      "execution_count": null,
      "outputs": [
        {
          "output_type": "stream",
          "text": [
            "Drive already mounted at /content/drive; to attempt to forcibly remount, call drive.mount(\"/content/drive\", force_remount=True).\n",
            "WARNING:tensorflow:No training configuration found in save file, so the model was *not* compiled. Compile it manually.\n"
          ],
          "name": "stdout"
        },
        {
          "output_type": "stream",
          "text": [
            "WARNING:tensorflow:No training configuration found in save file, so the model was *not* compiled. Compile it manually.\n"
          ],
          "name": "stderr"
        }
      ]
    },
    {
      "cell_type": "code",
      "metadata": {
        "colab": {
          "base_uri": "https://localhost:8080/"
        },
        "id": "BJ8xDiiFTBYB",
        "outputId": "dc4f1bee-d5cc-4125-8aa3-2e0dee015b5f"
      },
      "source": [
        "# Попробуем:\r\n",
        "print(generate_text(new_model, temperature, start_string=u\"И ТУТ ТеТЯ ЙОБА ГОВОРИТ\"))\r\n",
        "# Работает!"
      ],
      "execution_count": null,
      "outputs": [
        {
          "output_type": "stream",
          "text": [
            "И ТУТ ТеТЯ ЙОБА ГОВОРИТА    \r\n",
            "небо, аллах,\r\n",
            "\r\n",
            "\r\n",
            "небо, аллах,\r\n",
            "\r\n",
            "8) Получил сегодня письмо от Бооля, который мне сказал, что он предложил мне предполагать представить им деньги и просил меня принять его на все постановки и приглашенный в Училище его завтра в составе приезда\n"
          ],
          "name": "stdout"
        }
      ]
    },
    {
      "cell_type": "markdown",
      "metadata": {
        "id": "DjGz1tDkzf-u"
      },
      "source": [
        "### The prediction loop\n",
        "\n",
        "The following code block generates the text:\n",
        "\n",
        "* It Starts by choosing a start string, initializing the RNN state and setting the number of characters to generate.\n",
        "\n",
        "* Get the prediction distribution of the next character using the start string and the RNN state.\n",
        "\n",
        "* Then, use a categorical distribution to calculate the index of the predicted character. Use this predicted character as our next input to the model.\n",
        "\n",
        "* The RNN state returned by the model is fed back into the model so that it now has more context, instead than only one character. After predicting the next character, the modified RNN states are again fed back into the model, which is how it learns as it gets more context from the previously predicted characters.\n",
        "\n",
        "\n",
        "![To generate text the model's output is fed back to the input](https://github.com/tensorflow/docs/blob/master/site/en/tutorials/text/images/text_generation_sampling.png?raw=1)\n",
        "\n",
        "Looking at the generated text, you'll see the model knows when to capitalize, make paragraphs and imitates a Shakespeare-like writing vocabulary. With the small number of training epochs, it has not yet learned to form coherent sentences."
      ]
    },
    {
      "cell_type": "code",
      "metadata": {
        "id": "WvuwZBX5Ogfd"
      },
      "source": [
        "temperature = 0.47\n",
        "\n",
        "def generate_text(model, temperature, start_string):\n",
        "  # Evaluation step (generating text using the learned model)\n",
        "\n",
        "  # Number of characters to generate\n",
        "  num_generate = 250\n",
        "\n",
        "  # Converting our start string to numbers (vectorizing)\n",
        "  input_eval = [char2idx[s] for s in start_string]\n",
        "  input_eval = tf.expand_dims(input_eval, 0)\n",
        "\n",
        "  # Empty string to store our results\n",
        "  text_generated = []\n",
        "\n",
        "  # Low temperatures results in more predictable text.\n",
        "  # Higher temperatures results in more surprising text.\n",
        "  # Experiment to find the best setting.\n",
        "  temperature = temperature\n",
        "\n",
        "  # Here batch size == 1\n",
        "  model.reset_states()\n",
        "  for i in range(num_generate):\n",
        "      predictions = model(input_eval)\n",
        "      # remove the batch dimension\n",
        "      predictions = tf.squeeze(predictions, 0)\n",
        "\n",
        "      # using a categorical distribution to predict the character returned by the model\n",
        "      predictions = predictions / temperature\n",
        "      predicted_id = tf.random.categorical(predictions, num_samples=1)[-1,0].numpy()\n",
        "\n",
        "      # We pass the predicted character as the next input to the model\n",
        "      # along with the previous hidden state\n",
        "      input_eval = tf.expand_dims([predicted_id], 0)\n",
        "\n",
        "      text_generated.append(idx2char[predicted_id])\n",
        "\n",
        "  return (start_string + ''.join(text_generated))\n",
        "\n"
      ],
      "execution_count": null,
      "outputs": []
    },
    {
      "cell_type": "markdown",
      "metadata": {
        "id": "SxZ0DODJksi2"
      },
      "source": [
        "### Вызовем функцию генерации текста\n"
      ]
    },
    {
      "cell_type": "code",
      "metadata": {
        "id": "ewwnmZFFkj39"
      },
      "source": [
        "print(generate_text(model, temperature, start_string=u\"И ТУТ ТЁТЯ ЙОБА ГОВОРИТ: \"))"
      ],
      "execution_count": null,
      "outputs": []
    },
    {
      "cell_type": "markdown",
      "metadata": {
        "id": "Hh_gKOE-kxdy"
      },
      "source": [
        "## Теперь попробуем генерировать тексты массово"
      ]
    },
    {
      "cell_type": "code",
      "metadata": {
        "id": "ktovv0RFhrkn"
      },
      "source": [
        "count_of_burgers = 5 #count will be miltiplied by count of lines in bugstarts\n",
        "\n",
        "bugstarts = ('И ТУТ ТЁТЯ ЙОБА ГОВОРИТ: ', \n",
        "             'ВСТРЕЧАЕШЬСЯ С ТЯН ', \n",
        "             'АНИМЕ НА АВЕ ', \n",
        "             'СМОТРИШЬ НОВОСТИ О КОРОНАВИРУСЕ ', \n",
        "             'ЕОТОВА ЗНАКОМИТСЯ С ТВОИМ БАТЕЙ ')\n",
        "\n",
        "for i in range (count_of_burgers):\n",
        "  print(i+1, \" out of \", count_of_burgers)\n",
        "  for i in range(len(bugstarts)):\n",
        "    results = open('/content/drive/My Drive/Colab Notebooks/Results.txt', 'a')\n",
        "    lines = (generate_text(model, temperature, start_string=bugstarts[i]), \"\\n\\n\", \"temperature: \", str(temperature), \"  EPOCHS: \", str(EPOCHS), \n",
        "             \" MODEL_VERSION: \", str(MODEL_VERSION), \" BATCH_SIZE: \", str(BATCH_SIZE), \n",
        "             \" BUFFER_SIZE: \", str(BUFFER_SIZE), \" embedding_dim: \", str(embedding_dim), \n",
        "             \" rnn_units: \", str(rnn_units), \" seq_length: \", str(seq_length), \"\\n\\n\\n\\n\\n\")\n",
        "    results.writelines(lines)\n",
        "    results.close()"
      ],
      "execution_count": null,
      "outputs": []
    },
    {
      "cell_type": "markdown",
      "metadata": {
        "id": "AM2Uma_-yVIq"
      },
      "source": [
        "The easiest thing you can do to improve the results it to train it for longer (try `EPOCHS=30`).\n",
        "\n",
        "You can also experiment with a different start string, or try adding another RNN layer to improve the model's accuracy, or adjusting the temperature parameter to generate more or less random predictions."
      ]
    }
  ]
}